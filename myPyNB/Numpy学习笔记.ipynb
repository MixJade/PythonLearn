{
 "cells": [
  {
   "cell_type": "markdown",
   "id": "f7f8db63",
   "metadata": {},
   "source": [
    "<center><h2>Numpy开始学习</h2></center>"
   ]
  },
  {
   "cell_type": "markdown",
   "id": "1f70c37d",
   "metadata": {},
   "source": [
    "## 创建一维数组"
   ]
  },
  {
   "cell_type": "markdown",
   "id": "7a3c0a9c",
   "metadata": {},
   "source": [
    "## 创建二维数组\n",
    "> * 同时获取数组的维数、元素类型、尺寸、大小\n",
    "> * 对数组进行变形"
   ]
  },
  {
   "cell_type": "code",
   "execution_count": 16,
   "id": "6fbe98cd",
   "metadata": {},
   "outputs": [
    {
     "name": "stdout",
     "output_type": "stream",
     "text": [
      "创建的数组为\n",
      " [[ 1  2  3  4]\n",
      " [ 5  6  7  8]\n",
      " [ 9 10 11 12]]\n",
      "数组的维数为: 2\n",
      "数组的元素类型为: int32\n",
      "数组的尺寸为: (3, 4)\n",
      "数组的元素总数为: 12\n",
      "变形后的数组为\n",
      " [[ 1  2  3]\n",
      " [ 4  5  6]\n",
      " [ 7  8  9]\n",
      " [10 11 12]]\n"
     ]
    }
   ],
   "source": [
    "arr2=np.array([[1,2,3,4],[5,6,7,8],[9,10,11,12]])\n",
    "print(\"创建的数组为\\n\",arr2)\n",
    "print(\"数组的维数为:\",arr2.ndim)\n",
    "print(\"数组的元素类型为:\",arr2.dtype)\n",
    "print(\"数组的尺寸为:\",arr2.shape)\n",
    "print(\"数组的元素总数为:\",arr2.size)\n",
    "arr2.shape=4,3\n",
    "print(\"变形后的数组为\\n\",arr2)"
   ]
  },
  {
   "cell_type": "markdown",
   "id": "604be33d",
   "metadata": {},
   "source": [
    "## 使用其他函数创建数组\n",
    "> * 书P24,25"
   ]
  },
  {
   "cell_type": "code",
   "execution_count": 19,
   "id": "4d7d1d15",
   "metadata": {},
   "outputs": [
    {
     "name": "stdout",
     "output_type": "stream",
     "text": [
      "arange创建的数组\n",
      " [0.  0.1 0.2 0.3 0.4 0.5 0.6 0.7 0.8 0.9]\n",
      "linspace创建的数组\n",
      " [0.         0.09090909 0.18181818 0.27272727 0.36363636 0.45454545\n",
      " 0.54545455 0.63636364 0.72727273 0.81818182 0.90909091 1.        ]\n"
     ]
    }
   ],
   "source": [
    "arr3=np.arange(0,1,0.1)\n",
    "print(\"arange创建的数组\\n\",arr3)\n",
    "arr4=np.linspace(0,1,12)\n",
    "print(\"linspace创建的数组\\n\",arr4)"
   ]
  },
  {
   "cell_type": "markdown",
   "id": "777044a2",
   "metadata": {},
   "source": [
    "## 生成随机数\n",
    "> * 书P27\n",
    "> * 生成随机数\n",
    "> * 生成均匀分布的随机数\n",
    "> * 生成正态分布的随机数\n",
    "> * 生成有上下界的随机数"
   ]
  },
  {
   "cell_type": "code",
   "execution_count": 4,
   "id": "81f8bbc1",
   "metadata": {},
   "outputs": [
    {
     "name": "stdout",
     "output_type": "stream",
     "text": [
      "生成10个随机数:\n",
      " [0.47171325 0.85623581 0.80800421 0.28646988 0.9776967  0.04052419\n",
      " 0.36800606 0.28299725 0.09763269 0.87575144]\n"
     ]
    }
   ],
   "source": [
    "import numpy as np\n",
    "randomNum = np.random.random(10)\n",
    "print(\"生成10个随机数:\\n\",randomNum)"
   ]
  },
  {
   "cell_type": "code",
   "execution_count": 6,
   "id": "2f47d7f0",
   "metadata": {},
   "outputs": [
    {
     "name": "stdout",
     "output_type": "stream",
     "text": [
      "生成35个(七行五列)均匀分布的随机数:\n",
      " [[0.3189248  0.13344771 0.46301869 0.08866697 0.11451368]\n",
      " [0.15019758 0.42684885 0.99271342 0.77517259 0.26219895]\n",
      " [0.28992545 0.72589095 0.20059862 0.86021227 0.15579992]\n",
      " [0.73422444 0.93445219 0.26381202 0.32091088 0.06126675]\n",
      " [0.3453675  0.06041858 0.38793452 0.44201503 0.43866942]\n",
      " [0.79426721 0.48274587 0.87386716 0.55382084 0.4953978 ]\n",
      " [0.98346841 0.13114616 0.94200452 0.54697804 0.03380719]]\n"
     ]
    }
   ],
   "source": [
    "randomNum02 = np.random.rand(7,5)\n",
    "print(\"生成35个(七行五列)均匀分布的随机数:\\n\",randomNum02)"
   ]
  },
  {
   "cell_type": "code",
   "execution_count": 8,
   "id": "e2d7423f",
   "metadata": {},
   "outputs": [
    {
     "name": "stdout",
     "output_type": "stream",
     "text": [
      "生成35个(七行五列)正态分布的随机数:\n",
      " [[ 0.45687151 -1.86408837 -1.37992074  0.07177512  0.91828115]\n",
      " [ 1.78534296 -0.72832636 -0.85025041  0.61492531  0.52364453]\n",
      " [-0.61365716  0.50567316 -1.13205556  0.31729738  0.70614898]\n",
      " [-1.1918284   1.27038231  0.45910529  1.64491644  0.25897367]\n",
      " [ 0.05061616  0.76461907 -1.62023669  0.15920641  2.69412587]\n",
      " [-0.51241364 -2.07627751 -3.48565498  0.73788446 -1.67384173]\n",
      " [-1.95300192  0.15555911 -0.95766137  1.4009075  -1.24296147]]\n"
     ]
    }
   ],
   "source": [
    "randomNum03 = np.random.randn(7,5)\n",
    "print(\"生成35个(七行五列)正态分布的随机数:\\n\",randomNum03)"
   ]
  },
  {
   "cell_type": "code",
   "execution_count": 11,
   "id": "e9042332",
   "metadata": {},
   "outputs": [
    {
     "name": "stdout",
     "output_type": "stream",
     "text": [
      "生成不小于2不大于10(左开右闭)的10个(二行五列)随机数:\n",
      " [[3 9 3 6 7]\n",
      " [4 4 6 7 3]]\n"
     ]
    }
   ],
   "source": [
    "randomNum04 = np.random.randint(2,10,size=[2,5])\n",
    "print(\"生成不小于2不大于10(左开右闭)的10个(二行五列)随机数:\\n\",randomNum04)"
   ]
  },
  {
   "cell_type": "markdown",
   "id": "129fb601",
   "metadata": {},
   "source": [
    "# 矩阵\n",
    "> 广播机制(书P39)\n",
    "\n",
    "即不同维数的数组进行运算，可以通过函数进行补充"
   ]
  },
  {
   "cell_type": "code",
   "execution_count": 2,
   "id": "0d070e28",
   "metadata": {},
   "outputs": [
    {
     "data": {
      "text/plain": [
       "array([[1, 1, 1],\n",
       "       [3, 3, 3],\n",
       "       [5, 5, 5],\n",
       "       [7, 7, 7]])"
      ]
     },
     "execution_count": 2,
     "metadata": {},
     "output_type": "execute_result"
    }
   ],
   "source": [
    "import numpy as np\n",
    "arr1=np.array([[0,0,0],[1,1,1],[2,2,2],[3,3,3]])\n",
    "arr2=np.array([1,2,3,4]).reshape((4,1))\n",
    "arr1+arr2"
   ]
  },
  {
   "cell_type": "markdown",
   "id": "bf697649",
   "metadata": {},
   "source": [
    "# Numpy的统计分析\n",
    "> 书P41读写文件"
   ]
  },
  {
   "cell_type": "markdown",
   "id": "11f2ab17",
   "metadata": {},
   "source": [
    "## 保存数组至文件\n",
    "> * 单个数组用save方法,文件后缀默认为npy\n",
    "> * 多个数组用savez方法，文件后缀npz"
   ]
  },
  {
   "cell_type": "code",
   "execution_count": 7,
   "id": "d9c9c363",
   "metadata": {},
   "outputs": [
    {
     "name": "stdout",
     "output_type": "stream",
     "text": [
      "保存的数组是:\n",
      " [[ 0  1  2  3  4]\n",
      " [ 5  6  7  8  9]\n",
      " [10 11 12 13 14]\n",
      " [15 16 17 18 19]]\n"
     ]
    }
   ],
   "source": [
    "arr3=np.arange(20).reshape(4,5)\n",
    "np.save(\"./output/save_arr01\",arr3) # 保存数组\n",
    "print(\"保存的数组是:\\n\",arr3)"
   ]
  },
  {
   "cell_type": "code",
   "execution_count": 19,
   "id": "058fa677",
   "metadata": {},
   "outputs": [
    {
     "name": "stdout",
     "output_type": "stream",
     "text": [
      "保存的数组1:\n",
      " [[0 0 0]\n",
      " [1 1 1]\n",
      " [2 2 2]\n",
      " [3 3 3]]\n",
      "保存的数组2:\n",
      " [[1]\n",
      " [2]\n",
      " [3]\n",
      " [4]]\n"
     ]
    }
   ],
   "source": [
    "np.savez(\"./output/save_arr02\",arr1,arr2) # 保存多个数组\n",
    "print(\"保存的数组1:\\n\",arr1)\n",
    "print(\"保存的数组2:\\n\",arr2)"
   ]
  },
  {
   "cell_type": "markdown",
   "id": "1470045a",
   "metadata": {},
   "source": [
    "## 从文件读取数组"
   ]
  },
  {
   "cell_type": "code",
   "execution_count": 13,
   "id": "1b6581c3",
   "metadata": {},
   "outputs": [
    {
     "name": "stdout",
     "output_type": "stream",
     "text": [
      "读取的数组是:\n",
      " [[ 0  1  2  3  4]\n",
      " [ 5  6  7  8  9]\n",
      " [10 11 12 13 14]\n",
      " [15 16 17 18 19]]\n"
     ]
    }
   ],
   "source": [
    "load_data01=np.load(\"./output/save_arr01.npy\") # 读取单个数组\n",
    "print(\"读取的数组是:\\n\",load_data01)"
   ]
  },
  {
   "cell_type": "code",
   "execution_count": 20,
   "id": "fbf977ad",
   "metadata": {},
   "outputs": [
    {
     "name": "stdout",
     "output_type": "stream",
     "text": [
      "读取的数组1是\n",
      " [[0 0 0]\n",
      " [1 1 1]\n",
      " [2 2 2]\n",
      " [3 3 3]]\n",
      "读取的数组2是\n",
      " [[1]\n",
      " [2]\n",
      " [3]\n",
      " [4]]\n"
     ]
    }
   ],
   "source": [
    "load_data02=np.load(\"./output/save_arr02.npz\") # 读取多个数组\n",
    "print(\"读取的数组1是\\n\",load_data02['arr_0'])\n",
    "print(\"读取的数组2是\\n\",load_data02['arr_1'])"
   ]
  },
  {
   "cell_type": "markdown",
   "id": "d52020af",
   "metadata": {},
   "source": [
    "## 对数组进行文本形式的存与读"
   ]
  },
  {
   "cell_type": "code",
   "execution_count": 5,
   "id": "2a9ce935",
   "metadata": {},
   "outputs": [
    {
     "name": "stdout",
     "output_type": "stream",
     "text": [
      "创建的数组为：\n",
      " [[ 0  1  2  3  4]\n",
      " [ 5  6  7  8  9]\n",
      " [10 11 12 13 14]\n",
      " [15 16 17 18 19]]\n",
      "读取的数组为：\n",
      " [[ 0.  1.  2.  3.  4.]\n",
      " [ 5.  6.  7.  8.  9.]\n",
      " [10. 11. 12. 13. 14.]\n",
      " [15. 16. 17. 18. 19.]]\n"
     ]
    }
   ],
   "source": [
    "arr = np.arange(20).reshape(4, 5)\n",
    "print('创建的数组为：\\n', arr)\n",
    "\n",
    "# fmt='%d'表示保存为整数\n",
    "np.savetxt('./output/arr.txt', arr, fmt='%d', delimiter=',')\n",
    "# 读入的时候也需要指定逗号分隔\n",
    "loaded_data = np.loadtxt('./output/arr.txt', delimiter=',') \n",
    "print('读取的数组为：\\n', loaded_data)"
   ]
  },
  {
   "cell_type": "markdown",
   "id": "74e31653",
   "metadata": {},
   "source": [
    "# 简单的统计分析\n",
    "## 1.排序"
   ]
  },
  {
   "cell_type": "code",
   "execution_count": 11,
   "id": "a89d2fba",
   "metadata": {},
   "outputs": [
    {
     "name": "stdout",
     "output_type": "stream",
     "text": [
      "创建的数组为： [7 4 8 5 7 3 7 8 5 4 8 8 3 6 5 2 8 6 2 5]\n",
      "排序后数组为： [2 2 3 3 4 4 5 5 5 5 6 6 7 7 7 8 8 8 8 8]\n",
      "===================\n",
      "创建的数组为：\n",
      " [[1 6 9 1 3]\n",
      " [7 4 9 3 5]\n",
      " [3 7 5 9 7]\n",
      " [2 4 9 2 9]]\n",
      "沿着横轴排序后数组为：\n",
      " [[1 1 3 6 9]\n",
      " [3 4 5 7 9]\n",
      " [3 5 7 7 9]\n",
      " [2 2 4 9 9]]\n",
      "沿着纵轴排序后数组为：\n",
      " [[1 1 3 6 9]\n",
      " [2 2 4 7 9]\n",
      " [3 4 5 7 9]\n",
      " [3 5 7 9 9]]\n"
     ]
    }
   ],
   "source": [
    "# 代码 2-44\n",
    "np.random.seed(42)  # 设置随机种子\n",
    "arr = np.random.randint(1, 10, size=20) # 生成随机数组,数字随机1-9,共20个\n",
    "print('创建的数组为：', arr)\n",
    "\n",
    "arr.sort()  # 直接排序\n",
    "print('排序后数组为：', arr)\n",
    "\n",
    "print(\"===================\")\n",
    "arr = np.random.randint(1, 10, size=(4,5))  # 生成4行5列的随机数组\n",
    "print('创建的数组为：\\n', arr)\n",
    "\n",
    "arr.sort(axis=1)  # 沿着横轴排序\n",
    "print('沿着横轴排序后数组为：\\n', arr)\n",
    "\n",
    "arr.sort(axis=0)  # 沿着纵轴排序\n",
    "print('沿着纵轴排序后数组为：\\n', arr)"
   ]
  },
  {
   "cell_type": "markdown",
   "id": "8900c746",
   "metadata": {},
   "source": [
    "## 去除重复\n",
    "> 通过unique函数"
   ]
  },
  {
   "cell_type": "code",
   "execution_count": 14,
   "id": "7157a6ea",
   "metadata": {},
   "outputs": [
    {
     "name": "stdout",
     "output_type": "stream",
     "text": [
      "创建的数组为： ['小明' '小黄' '小花' '小明' '小花' '小兰' '小白']\n",
      "去重后的数组为： ['小兰' '小明' '小白' '小花' '小黄']\n"
     ]
    }
   ],
   "source": [
    "# 代码 2-47\n",
    "names = np.array(['小明', '小黄', '小花', '小明', \n",
    "    '小花', '小兰', '小白'])\n",
    "print('创建的数组为：', names)\n",
    "print('去重后的数组为：', np.unique(names))"
   ]
  },
  {
   "cell_type": "markdown",
   "id": "6aa57dcf",
   "metadata": {},
   "source": [
    "## 常用的统计函数\n",
    "> 书P47\n",
    "> * sum求和\n",
    "> * mean均值\n",
    "> * max,min最大最小值\n",
    "> * std标准差\n",
    "> * var方差"
   ]
  },
  {
   "cell_type": "code",
   "execution_count": 18,
   "id": "ebd823e9",
   "metadata": {},
   "outputs": [
    {
     "name": "stdout",
     "output_type": "stream",
     "text": [
      "创建的数组为：\n",
      " [[ 0  1  2  3  4]\n",
      " [ 5  6  7  8  9]\n",
      " [10 11 12 13 14]\n",
      " [15 16 17 18 19]]\n",
      "数组的和为： 190\n",
      "数组横轴的和为： [10 35 60 85]\n",
      "数组纵轴的和为： [30 34 38 42 46]\n",
      "\n",
      "数组的均值为： 9.5\n",
      "数组横轴的均值为： [ 2.  7. 12. 17.]\n",
      "数组纵轴的均值为： [ 7.5  8.5  9.5 10.5 11.5]\n",
      "\n",
      "数组的标准差为： 5.766281297335398\n",
      "\n",
      "数组的方差为： 33.25\n",
      "\n",
      "数组的最小值为： 0\n",
      "数组的最大元素索引为： 19\n"
     ]
    }
   ],
   "source": [
    "# 代码 2-50\n",
    "arr = np.arange(20).reshape(4, 5)\n",
    "print('创建的数组为：\\n', arr)\n",
    "print('数组的和为：', np.sum(arr))  # 计算数组的和\n",
    "print('数组横轴的和为：', arr.sum(axis=1))  # 沿着横轴计算求和\n",
    "print('数组纵轴的和为：', arr.sum(axis=0))  # 沿着纵轴计算求和\n",
    "print('\\n数组的均值为：', np.mean(arr))  # 计算数组均值\n",
    "print('数组横轴的均值为：', arr.mean(axis=1))  # 沿着横轴计算数组均值\n",
    "print('数组纵轴的均值为：', arr.mean(axis=0))  # 沿着纵轴计算数组均值\n",
    "print('\\n数组的标准差为：', np.std(arr))  # 计算数组标准差\n",
    "print('\\n数组的方差为：', np.var(arr))  # 计算数组方差\n",
    "print('\\n数组的最小值为：', np.min(arr))  # 计算数组最小值\n",
    "print('数组的最大元素索引为：', np.argmax(arr))  # 返回数组最大元素的索引"
   ]
  }
 ],
 "metadata": {
  "kernelspec": {
   "display_name": "Python 3 (ipykernel)",
   "language": "python",
   "name": "python3"
  },
  "language_info": {
   "codemirror_mode": {
    "name": "ipython",
    "version": 3
   },
   "file_extension": ".py",
   "mimetype": "text/x-python",
   "name": "python",
   "nbconvert_exporter": "python",
   "pygments_lexer": "ipython3",
   "version": "3.9.12"
  }
 },
 "nbformat": 4,
 "nbformat_minor": 5
}
