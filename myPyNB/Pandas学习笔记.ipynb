{
 "cells": [
  {
   "cell_type": "markdown",
   "id": "6f68df49",
   "metadata": {},
   "source": [
    "<center><h1>第五章:使用Pandas</h1></center>"
   ]
  },
  {
   "cell_type": "markdown",
   "id": "77deb442",
   "metadata": {},
   "source": [
    "## 读文件\n",
    "> 书P84"
   ]
  },
  {
   "cell_type": "code",
   "execution_count": 2,
   "id": "bc7fc692",
   "metadata": {},
   "outputs": [],
   "source": [
    "import pandas as pd"
   ]
  },
  {
   "cell_type": "markdown",
   "id": "c60b57e4",
   "metadata": {},
   "source": [
    "1. **使用read_table读取**\n",
    "    * txt"
   ]
  },
  {
   "cell_type": "code",
   "execution_count": 5,
   "id": "15435711",
   "metadata": {},
   "outputs": [
    {
     "data": {
      "text/html": [
       "<div>\n",
       "<style scoped>\n",
       "    .dataframe tbody tr th:only-of-type {\n",
       "        vertical-align: middle;\n",
       "    }\n",
       "\n",
       "    .dataframe tbody tr th {\n",
       "        vertical-align: top;\n",
       "    }\n",
       "\n",
       "    .dataframe thead th {\n",
       "        text-align: right;\n",
       "    }\n",
       "</style>\n",
       "<table border=\"1\" class=\"dataframe\">\n",
       "  <thead>\n",
       "    <tr style=\"text-align: right;\">\n",
       "      <th></th>\n",
       "      <th>省份</th>\n",
       "      <th>累计确诊</th>\n",
       "      <th>死亡</th>\n",
       "      <th>治愈</th>\n",
       "      <th>现有确诊</th>\n",
       "      <th>累计确诊增量</th>\n",
       "      <th>死亡增量</th>\n",
       "      <th>治愈增量</th>\n",
       "      <th>现有确诊增量</th>\n",
       "    </tr>\n",
       "  </thead>\n",
       "  <tbody>\n",
       "    <tr>\n",
       "      <th>0</th>\n",
       "      <td>西藏</td>\n",
       "      <td>1460</td>\n",
       "      <td>0</td>\n",
       "      <td>1434</td>\n",
       "      <td>26</td>\n",
       "      <td>0</td>\n",
       "      <td>0</td>\n",
       "      <td>11</td>\n",
       "      <td>-11</td>\n",
       "    </tr>\n",
       "    <tr>\n",
       "      <th>1</th>\n",
       "      <td>澳门</td>\n",
       "      <td>795</td>\n",
       "      <td>6</td>\n",
       "      <td>787</td>\n",
       "      <td>2</td>\n",
       "      <td>0</td>\n",
       "      <td>0</td>\n",
       "      <td>0</td>\n",
       "      <td>0</td>\n",
       "    </tr>\n",
       "    <tr>\n",
       "      <th>2</th>\n",
       "      <td>青海</td>\n",
       "      <td>284</td>\n",
       "      <td>0</td>\n",
       "      <td>255</td>\n",
       "      <td>29</td>\n",
       "      <td>3</td>\n",
       "      <td>0</td>\n",
       "      <td>0</td>\n",
       "      <td>3</td>\n",
       "    </tr>\n",
       "    <tr>\n",
       "      <th>3</th>\n",
       "      <td>台湾</td>\n",
       "      <td>7887538</td>\n",
       "      <td>13198</td>\n",
       "      <td>13742</td>\n",
       "      <td>7860598</td>\n",
       "      <td>24345</td>\n",
       "      <td>28</td>\n",
       "      <td>0</td>\n",
       "      <td>24317</td>\n",
       "    </tr>\n",
       "    <tr>\n",
       "      <th>4</th>\n",
       "      <td>香港</td>\n",
       "      <td>438627</td>\n",
       "      <td>10470</td>\n",
       "      <td>92863</td>\n",
       "      <td>335294</td>\n",
       "      <td>582</td>\n",
       "      <td>6</td>\n",
       "      <td>234</td>\n",
       "      <td>342</td>\n",
       "    </tr>\n",
       "  </tbody>\n",
       "</table>\n",
       "</div>"
      ],
      "text/plain": [
       "   省份     累计确诊     死亡     治愈     现有确诊  累计确诊增量  死亡增量  治愈增量  现有确诊增量\n",
       "0  西藏     1460      0   1434       26       0     0    11     -11\n",
       "1  澳门      795      6    787        2       0     0     0       0\n",
       "2  青海      284      0    255       29       3     0     0       3\n",
       "3  台湾  7887538  13198  13742  7860598   24345    28     0   24317\n",
       "4  香港   438627  10470  92863   335294     582     6   234     342"
      ]
     },
     "execution_count": 5,
     "metadata": {},
     "output_type": "execute_result"
    }
   ],
   "source": [
    "txt_table=pd.read_table(\"./excess_data/data2022-11-07.txt\",sep='\\t',encoding='utf-16')\n",
    "txt_table.head() #注意：.head()表示数据的前五项，实际操作不要加"
   ]
  },
  {
   "cell_type": "markdown",
   "id": "32494248",
   "metadata": {},
   "source": [
    "2. **使用read_csv读取**\n",
    "    * csv"
   ]
  },
  {
   "cell_type": "code",
   "execution_count": 4,
   "id": "584b3f3c",
   "metadata": {},
   "outputs": [
    {
     "data": {
      "text/html": [
       "<div>\n",
       "<style scoped>\n",
       "    .dataframe tbody tr th:only-of-type {\n",
       "        vertical-align: middle;\n",
       "    }\n",
       "\n",
       "    .dataframe tbody tr th {\n",
       "        vertical-align: top;\n",
       "    }\n",
       "\n",
       "    .dataframe thead th {\n",
       "        text-align: right;\n",
       "    }\n",
       "</style>\n",
       "<table border=\"1\" class=\"dataframe\">\n",
       "  <thead>\n",
       "    <tr style=\"text-align: right;\">\n",
       "      <th></th>\n",
       "      <th>省份</th>\n",
       "      <th>累计确诊</th>\n",
       "      <th>死亡</th>\n",
       "      <th>治愈</th>\n",
       "      <th>现有确诊</th>\n",
       "      <th>累计确诊增量</th>\n",
       "      <th>死亡增量</th>\n",
       "      <th>治愈增量</th>\n",
       "      <th>现有确诊增量</th>\n",
       "    </tr>\n",
       "  </thead>\n",
       "  <tbody>\n",
       "    <tr>\n",
       "      <th>0</th>\n",
       "      <td>西藏</td>\n",
       "      <td>1460</td>\n",
       "      <td>0</td>\n",
       "      <td>1434</td>\n",
       "      <td>26</td>\n",
       "      <td>0</td>\n",
       "      <td>0</td>\n",
       "      <td>11</td>\n",
       "      <td>-11</td>\n",
       "    </tr>\n",
       "    <tr>\n",
       "      <th>1</th>\n",
       "      <td>澳门</td>\n",
       "      <td>795</td>\n",
       "      <td>6</td>\n",
       "      <td>787</td>\n",
       "      <td>2</td>\n",
       "      <td>0</td>\n",
       "      <td>0</td>\n",
       "      <td>0</td>\n",
       "      <td>0</td>\n",
       "    </tr>\n",
       "    <tr>\n",
       "      <th>2</th>\n",
       "      <td>青海</td>\n",
       "      <td>284</td>\n",
       "      <td>0</td>\n",
       "      <td>255</td>\n",
       "      <td>29</td>\n",
       "      <td>3</td>\n",
       "      <td>0</td>\n",
       "      <td>0</td>\n",
       "      <td>3</td>\n",
       "    </tr>\n",
       "    <tr>\n",
       "      <th>3</th>\n",
       "      <td>台湾</td>\n",
       "      <td>7887538</td>\n",
       "      <td>13198</td>\n",
       "      <td>13742</td>\n",
       "      <td>7860598</td>\n",
       "      <td>24345</td>\n",
       "      <td>28</td>\n",
       "      <td>0</td>\n",
       "      <td>24317</td>\n",
       "    </tr>\n",
       "    <tr>\n",
       "      <th>4</th>\n",
       "      <td>香港</td>\n",
       "      <td>438627</td>\n",
       "      <td>10470</td>\n",
       "      <td>92863</td>\n",
       "      <td>335294</td>\n",
       "      <td>582</td>\n",
       "      <td>6</td>\n",
       "      <td>234</td>\n",
       "      <td>342</td>\n",
       "    </tr>\n",
       "  </tbody>\n",
       "</table>\n",
       "</div>"
      ],
      "text/plain": [
       "   省份     累计确诊     死亡     治愈     现有确诊  累计确诊增量  死亡增量  治愈增量  现有确诊增量\n",
       "0  西藏     1460      0   1434       26       0     0    11     -11\n",
       "1  澳门      795      6    787        2       0     0     0       0\n",
       "2  青海      284      0    255       29       3     0     0       3\n",
       "3  台湾  7887538  13198  13742  7860598   24345    28     0   24317\n",
       "4  香港   438627  10470  92863   335294     582     6   234     342"
      ]
     },
     "execution_count": 4,
     "metadata": {},
     "output_type": "execute_result"
    }
   ],
   "source": [
    "df_csv=pd.read_csv('./excess_data/data2022-11-07.csv',sep=',',encoding='gbk')\n",
    "df_csv.head()"
   ]
  },
  {
   "cell_type": "markdown",
   "id": "c3b7ae5f",
   "metadata": {},
   "source": [
    "3. **使用read_excel读取**\n",
    "    * excel\n",
    "    * 书P87参数说明\n",
    "    * 注意excel存在多个表，默认读取第一个表"
   ]
  },
  {
   "cell_type": "code",
   "execution_count": 6,
   "id": "0114ed82",
   "metadata": {},
   "outputs": [
    {
     "data": {
      "text/html": [
       "<div>\n",
       "<style scoped>\n",
       "    .dataframe tbody tr th:only-of-type {\n",
       "        vertical-align: middle;\n",
       "    }\n",
       "\n",
       "    .dataframe tbody tr th {\n",
       "        vertical-align: top;\n",
       "    }\n",
       "\n",
       "    .dataframe thead th {\n",
       "        text-align: right;\n",
       "    }\n",
       "</style>\n",
       "<table border=\"1\" class=\"dataframe\">\n",
       "  <thead>\n",
       "    <tr style=\"text-align: right;\">\n",
       "      <th></th>\n",
       "      <th>国家</th>\n",
       "      <th>累计确诊</th>\n",
       "      <th>死亡</th>\n",
       "      <th>治愈</th>\n",
       "      <th>现有确诊</th>\n",
       "      <th>累计确诊增量</th>\n",
       "    </tr>\n",
       "  </thead>\n",
       "  <tbody>\n",
       "    <tr>\n",
       "      <th>0</th>\n",
       "      <td>图瓦卢</td>\n",
       "      <td>23</td>\n",
       "      <td>0</td>\n",
       "      <td>0</td>\n",
       "      <td>23</td>\n",
       "      <td>0</td>\n",
       "    </tr>\n",
       "    <tr>\n",
       "      <th>1</th>\n",
       "      <td>瑙鲁共和国</td>\n",
       "      <td>4611</td>\n",
       "      <td>1</td>\n",
       "      <td>4605</td>\n",
       "      <td>5</td>\n",
       "      <td>0</td>\n",
       "    </tr>\n",
       "    <tr>\n",
       "      <th>2</th>\n",
       "      <td>纽埃</td>\n",
       "      <td>85</td>\n",
       "      <td>0</td>\n",
       "      <td>85</td>\n",
       "      <td>0</td>\n",
       "      <td>0</td>\n",
       "    </tr>\n",
       "    <tr>\n",
       "      <th>3</th>\n",
       "      <td>库克群岛</td>\n",
       "      <td>6389</td>\n",
       "      <td>1</td>\n",
       "      <td>6384</td>\n",
       "      <td>4</td>\n",
       "      <td>0</td>\n",
       "    </tr>\n",
       "    <tr>\n",
       "      <th>4</th>\n",
       "      <td>基里巴斯</td>\n",
       "      <td>3430</td>\n",
       "      <td>13</td>\n",
       "      <td>2703</td>\n",
       "      <td>714</td>\n",
       "      <td>0</td>\n",
       "    </tr>\n",
       "  </tbody>\n",
       "</table>\n",
       "</div>"
      ],
      "text/plain": [
       "      国家  累计确诊  死亡    治愈  现有确诊  累计确诊增量\n",
       "0    图瓦卢    23   0     0    23       0\n",
       "1  瑙鲁共和国  4611   1  4605     5       0\n",
       "2     纽埃    85   0    85     0       0\n",
       "3   库克群岛  6389   1  6384     4       0\n",
       "4   基里巴斯  3430  13  2703   714       0"
      ]
     },
     "execution_count": 6,
     "metadata": {},
     "output_type": "execute_result"
    }
   ],
   "source": [
    "df_xlsx=pd.read_excel('./excess_data/data2022-11-07.xlsx',sheet_name=4) # 读取第五个表,也可以直接写表名\n",
    "df_xlsx.head()"
   ]
  },
  {
   "cell_type": "markdown",
   "id": "2f07625d",
   "metadata": {},
   "source": [
    "## 写文件"
   ]
  },
  {
   "cell_type": "markdown",
   "id": "152bd2af",
   "metadata": {},
   "source": [
    "1. **写csv文件**\n",
    "    * 书P86\n",
    "    * 用txt打开csv，可以看到它自带逗号分隔符\n",
    "    * 可以用其他的分隔符，比如分号"
   ]
  },
  {
   "cell_type": "code",
   "execution_count": 23,
   "id": "2138d57a",
   "metadata": {},
   "outputs": [],
   "source": [
    "df_xlsx.to_csv('./output/CSV写入测试.csv')"
   ]
  },
  {
   "cell_type": "markdown",
   "id": "78d5f8ed",
   "metadata": {},
   "source": [
    "2. **写excel文件**\n",
    "    * 书P88"
   ]
  },
  {
   "cell_type": "code",
   "execution_count": 22,
   "id": "da1132ae",
   "metadata": {},
   "outputs": [],
   "source": [
    "df_xlsx.to_excel('./output/Excel写入测试.xlsx',sheet_name=\"大洋洲疫情\")"
   ]
  },
  {
   "cell_type": "markdown",
   "id": "83d58b34",
   "metadata": {},
   "source": [
    "## DataFrame常用操作\n",
    "> 书P89"
   ]
  },
  {
   "cell_type": "code",
   "execution_count": 7,
   "id": "c2826701",
   "metadata": {},
   "outputs": [
    {
     "name": "stdout",
     "output_type": "stream",
     "text": [
      "values的意思是查看元素\n",
      " [['图瓦卢' 23 0 0 23 0]\n",
      " ['瑙鲁共和国' 4611 1 4605 5 0]\n",
      " ['纽埃' 85 0 85 0 0]\n",
      " ['库克群岛' 6389 1 6384 4 0]\n",
      " ['基里巴斯' 3430 13 2703 714 0]]\n"
     ]
    }
   ],
   "source": [
    "# 查看元素\n",
    "print(\"values的意思是查看元素\\n\",df_xlsx.head().values)"
   ]
  },
  {
   "cell_type": "code",
   "execution_count": 28,
   "id": "74bb204f",
   "metadata": {},
   "outputs": [
    {
     "name": "stdout",
     "output_type": "stream",
     "text": [
      "index的意思是查看索引\n",
      " RangeIndex(start=0, stop=19, step=1)\n"
     ]
    }
   ],
   "source": [
    "# 查看索引\n",
    "print(\"index的意思是查看索引\\n\",df_xlsx.index)"
   ]
  },
  {
   "cell_type": "code",
   "execution_count": 30,
   "id": "185815d2",
   "metadata": {},
   "outputs": [
    {
     "name": "stdout",
     "output_type": "stream",
     "text": [
      "columns的意思是查看列名\n",
      " Index(['国家', '累计确诊', '死亡', '治愈', '现有确诊', '累计确诊增量'], dtype='object')\n"
     ]
    }
   ],
   "source": [
    "# 查看列名\n",
    "print(\"columns的意思是查看列名\\n\",df_xlsx.columns)"
   ]
  },
  {
   "cell_type": "code",
   "execution_count": 32,
   "id": "9e69e5ef",
   "metadata": {},
   "outputs": [
    {
     "name": "stdout",
     "output_type": "stream",
     "text": [
      "dtypes的意思是查看数据类型\n",
      " 国家        object\n",
      "累计确诊       int64\n",
      "死亡         int64\n",
      "治愈         int64\n",
      "现有确诊       int64\n",
      "累计确诊增量     int64\n",
      "dtype: object\n"
     ]
    }
   ],
   "source": [
    "# 查看每列的数据类型\n",
    "print(\"dtypes的意思是查看数据类型\\n\",df_xlsx.dtypes)"
   ]
  },
  {
   "cell_type": "code",
   "execution_count": 37,
   "id": "bb2f92d0",
   "metadata": {},
   "outputs": [
    {
     "name": "stdout",
     "output_type": "stream",
     "text": [
      "数据的形状 (19, 6)\n",
      "数据的维度数 2\n",
      "数据的大小 114\n"
     ]
    }
   ],
   "source": [
    "print(\"数据的形状\",df_xlsx.shape)\n",
    "print(\"数据的维度数\",df_xlsx.ndim)\n",
    "print(\"数据的大小\",df_xlsx.size)"
   ]
  },
  {
   "cell_type": "code",
   "execution_count": 8,
   "id": "258e1a7b",
   "metadata": {},
   "outputs": [
    {
     "data": {
      "text/html": [
       "<div>\n",
       "<style scoped>\n",
       "    .dataframe tbody tr th:only-of-type {\n",
       "        vertical-align: middle;\n",
       "    }\n",
       "\n",
       "    .dataframe tbody tr th {\n",
       "        vertical-align: top;\n",
       "    }\n",
       "\n",
       "    .dataframe thead th {\n",
       "        text-align: right;\n",
       "    }\n",
       "</style>\n",
       "<table border=\"1\" class=\"dataframe\">\n",
       "  <thead>\n",
       "    <tr style=\"text-align: right;\">\n",
       "      <th></th>\n",
       "      <th>0</th>\n",
       "      <th>1</th>\n",
       "      <th>2</th>\n",
       "      <th>3</th>\n",
       "      <th>4</th>\n",
       "    </tr>\n",
       "  </thead>\n",
       "  <tbody>\n",
       "    <tr>\n",
       "      <th>国家</th>\n",
       "      <td>图瓦卢</td>\n",
       "      <td>瑙鲁共和国</td>\n",
       "      <td>纽埃</td>\n",
       "      <td>库克群岛</td>\n",
       "      <td>基里巴斯</td>\n",
       "    </tr>\n",
       "    <tr>\n",
       "      <th>累计确诊</th>\n",
       "      <td>23</td>\n",
       "      <td>4611</td>\n",
       "      <td>85</td>\n",
       "      <td>6389</td>\n",
       "      <td>3430</td>\n",
       "    </tr>\n",
       "    <tr>\n",
       "      <th>死亡</th>\n",
       "      <td>0</td>\n",
       "      <td>1</td>\n",
       "      <td>0</td>\n",
       "      <td>1</td>\n",
       "      <td>13</td>\n",
       "    </tr>\n",
       "    <tr>\n",
       "      <th>治愈</th>\n",
       "      <td>0</td>\n",
       "      <td>4605</td>\n",
       "      <td>85</td>\n",
       "      <td>6384</td>\n",
       "      <td>2703</td>\n",
       "    </tr>\n",
       "    <tr>\n",
       "      <th>现有确诊</th>\n",
       "      <td>23</td>\n",
       "      <td>5</td>\n",
       "      <td>0</td>\n",
       "      <td>4</td>\n",
       "      <td>714</td>\n",
       "    </tr>\n",
       "    <tr>\n",
       "      <th>累计确诊增量</th>\n",
       "      <td>0</td>\n",
       "      <td>0</td>\n",
       "      <td>0</td>\n",
       "      <td>0</td>\n",
       "      <td>0</td>\n",
       "    </tr>\n",
       "  </tbody>\n",
       "</table>\n",
       "</div>"
      ],
      "text/plain": [
       "          0      1   2     3     4\n",
       "国家      图瓦卢  瑙鲁共和国  纽埃  库克群岛  基里巴斯\n",
       "累计确诊     23   4611  85  6389  3430\n",
       "死亡        0      1   0     1    13\n",
       "治愈        0   4605  85  6384  2703\n",
       "现有确诊     23      5   0     4   714\n",
       "累计确诊增量    0      0   0     0     0"
      ]
     },
     "execution_count": 8,
     "metadata": {},
     "output_type": "execute_result"
    }
   ],
   "source": [
    "# 对数据进行转置\n",
    "df_xlsx.head().T"
   ]
  },
  {
   "cell_type": "markdown",
   "id": "e9ddc8fd",
   "metadata": {},
   "source": [
    "## DataFrame增删改查\n",
    "> * 查找 书P92 开始\n",
    "> * 增删改 书P98-P101"
   ]
  },
  {
   "cell_type": "code",
   "execution_count": 52,
   "id": "a44c8161",
   "metadata": {},
   "outputs": [
    {
     "data": {
      "text/html": [
       "<div>\n",
       "<style scoped>\n",
       "    .dataframe tbody tr th:only-of-type {\n",
       "        vertical-align: middle;\n",
       "    }\n",
       "\n",
       "    .dataframe tbody tr th {\n",
       "        vertical-align: top;\n",
       "    }\n",
       "\n",
       "    .dataframe thead th {\n",
       "        text-align: right;\n",
       "    }\n",
       "</style>\n",
       "<table border=\"1\" class=\"dataframe\">\n",
       "  <thead>\n",
       "    <tr style=\"text-align: right;\">\n",
       "      <th></th>\n",
       "      <th>国家</th>\n",
       "      <th>累计确诊</th>\n",
       "      <th>死亡</th>\n",
       "      <th>治愈</th>\n",
       "      <th>现有确诊</th>\n",
       "      <th>累计确诊增量</th>\n",
       "    </tr>\n",
       "  </thead>\n",
       "  <tbody>\n",
       "    <tr>\n",
       "      <th>0</th>\n",
       "      <td>图瓦卢</td>\n",
       "      <td>23</td>\n",
       "      <td>0</td>\n",
       "      <td>0</td>\n",
       "      <td>23</td>\n",
       "      <td>0</td>\n",
       "    </tr>\n",
       "    <tr>\n",
       "      <th>1</th>\n",
       "      <td>瑙鲁共和国</td>\n",
       "      <td>4611</td>\n",
       "      <td>1</td>\n",
       "      <td>4605</td>\n",
       "      <td>5</td>\n",
       "      <td>0</td>\n",
       "    </tr>\n",
       "    <tr>\n",
       "      <th>2</th>\n",
       "      <td>纽埃</td>\n",
       "      <td>85</td>\n",
       "      <td>0</td>\n",
       "      <td>85</td>\n",
       "      <td>0</td>\n",
       "      <td>0</td>\n",
       "    </tr>\n",
       "    <tr>\n",
       "      <th>3</th>\n",
       "      <td>库克群岛</td>\n",
       "      <td>6389</td>\n",
       "      <td>1</td>\n",
       "      <td>6384</td>\n",
       "      <td>4</td>\n",
       "      <td>0</td>\n",
       "    </tr>\n",
       "    <tr>\n",
       "      <th>4</th>\n",
       "      <td>基里巴斯</td>\n",
       "      <td>3430</td>\n",
       "      <td>13</td>\n",
       "      <td>2703</td>\n",
       "      <td>714</td>\n",
       "      <td>0</td>\n",
       "    </tr>\n",
       "  </tbody>\n",
       "</table>\n",
       "</div>"
      ],
      "text/plain": [
       "      国家  累计确诊  死亡    治愈  现有确诊  累计确诊增量\n",
       "0    图瓦卢    23   0     0    23       0\n",
       "1  瑙鲁共和国  4611   1  4605     5       0\n",
       "2     纽埃    85   0    85     0       0\n",
       "3   库克群岛  6389   1  6384     4       0\n",
       "4   基里巴斯  3430  13  2703   714       0"
      ]
     },
     "execution_count": 52,
     "metadata": {},
     "output_type": "execute_result"
    }
   ],
   "source": [
    "df_xlsx.head() # 前五行数据\n",
    "df_xlsx.head(10) # 前十行\n",
    "df_xlsx.tail() # 后五行\n",
    "df_xlsx[5:10] # 5-9行\n",
    "df_xlsx[:5] # 前五行"
   ]
  },
  {
   "cell_type": "code",
   "execution_count": 57,
   "id": "c5883b08",
   "metadata": {},
   "outputs": [
    {
     "data": {
      "text/html": [
       "<div>\n",
       "<style scoped>\n",
       "    .dataframe tbody tr th:only-of-type {\n",
       "        vertical-align: middle;\n",
       "    }\n",
       "\n",
       "    .dataframe tbody tr th {\n",
       "        vertical-align: top;\n",
       "    }\n",
       "\n",
       "    .dataframe thead th {\n",
       "        text-align: right;\n",
       "    }\n",
       "</style>\n",
       "<table border=\"1\" class=\"dataframe\">\n",
       "  <thead>\n",
       "    <tr style=\"text-align: right;\">\n",
       "      <th></th>\n",
       "      <th>国家</th>\n",
       "      <th>死亡</th>\n",
       "    </tr>\n",
       "  </thead>\n",
       "  <tbody>\n",
       "    <tr>\n",
       "      <th>0</th>\n",
       "      <td>图瓦卢</td>\n",
       "      <td>0</td>\n",
       "    </tr>\n",
       "    <tr>\n",
       "      <th>1</th>\n",
       "      <td>瑙鲁共和国</td>\n",
       "      <td>1</td>\n",
       "    </tr>\n",
       "    <tr>\n",
       "      <th>2</th>\n",
       "      <td>纽埃</td>\n",
       "      <td>0</td>\n",
       "    </tr>\n",
       "    <tr>\n",
       "      <th>3</th>\n",
       "      <td>库克群岛</td>\n",
       "      <td>1</td>\n",
       "    </tr>\n",
       "    <tr>\n",
       "      <th>4</th>\n",
       "      <td>基里巴斯</td>\n",
       "      <td>13</td>\n",
       "    </tr>\n",
       "  </tbody>\n",
       "</table>\n",
       "</div>"
      ],
      "text/plain": [
       "      国家  死亡\n",
       "0    图瓦卢   0\n",
       "1  瑙鲁共和国   1\n",
       "2     纽埃   0\n",
       "3   库克群岛   1\n",
       "4   基里巴斯  13"
      ]
     },
     "execution_count": 57,
     "metadata": {},
     "output_type": "execute_result"
    }
   ],
   "source": [
    "df_xlsx['国家'] # 使用字典读取某一列\n",
    "df_xlsx[['国家','死亡']][:5] # 读取多行多列"
   ]
  },
  {
   "cell_type": "markdown",
   "id": "26b81708",
   "metadata": {},
   "source": [
    "### 使用loc,iloc实现切片\n",
    "\n",
    "> * loc[行索引名称或条件,列索引名称]\n",
    "> * iloc[行索引位置，列索引位置]"
   ]
  },
  {
   "cell_type": "code",
   "execution_count": 65,
   "id": "7bdd49a6",
   "metadata": {},
   "outputs": [
    {
     "data": {
      "text/plain": [
       "0      图瓦卢\n",
       "1    瑙鲁共和国\n",
       "2       纽埃\n",
       "3     库克群岛\n",
       "4     基里巴斯\n",
       "5     汤加王国\n",
       "Name: 国家, dtype: object"
      ]
     },
     "execution_count": 65,
     "metadata": {},
     "output_type": "execute_result"
    }
   ],
   "source": [
    "df_xlsx.loc[:5,'国家']"
   ]
  },
  {
   "cell_type": "code",
   "execution_count": 62,
   "id": "b5fe7105",
   "metadata": {},
   "outputs": [
    {
     "data": {
      "text/html": [
       "<div>\n",
       "<style scoped>\n",
       "    .dataframe tbody tr th:only-of-type {\n",
       "        vertical-align: middle;\n",
       "    }\n",
       "\n",
       "    .dataframe tbody tr th {\n",
       "        vertical-align: top;\n",
       "    }\n",
       "\n",
       "    .dataframe thead th {\n",
       "        text-align: right;\n",
       "    }\n",
       "</style>\n",
       "<table border=\"1\" class=\"dataframe\">\n",
       "  <thead>\n",
       "    <tr style=\"text-align: right;\">\n",
       "      <th></th>\n",
       "      <th>国家</th>\n",
       "      <th>累计确诊</th>\n",
       "      <th>死亡</th>\n",
       "    </tr>\n",
       "  </thead>\n",
       "  <tbody>\n",
       "    <tr>\n",
       "      <th>0</th>\n",
       "      <td>图瓦卢</td>\n",
       "      <td>23</td>\n",
       "      <td>0</td>\n",
       "    </tr>\n",
       "    <tr>\n",
       "      <th>1</th>\n",
       "      <td>瑙鲁共和国</td>\n",
       "      <td>4611</td>\n",
       "      <td>1</td>\n",
       "    </tr>\n",
       "    <tr>\n",
       "      <th>2</th>\n",
       "      <td>纽埃</td>\n",
       "      <td>85</td>\n",
       "      <td>0</td>\n",
       "    </tr>\n",
       "    <tr>\n",
       "      <th>3</th>\n",
       "      <td>库克群岛</td>\n",
       "      <td>6389</td>\n",
       "      <td>1</td>\n",
       "    </tr>\n",
       "    <tr>\n",
       "      <th>4</th>\n",
       "      <td>基里巴斯</td>\n",
       "      <td>3430</td>\n",
       "      <td>13</td>\n",
       "    </tr>\n",
       "  </tbody>\n",
       "</table>\n",
       "</div>"
      ],
      "text/plain": [
       "      国家  累计确诊  死亡\n",
       "0    图瓦卢    23   0\n",
       "1  瑙鲁共和国  4611   1\n",
       "2     纽埃    85   0\n",
       "3   库克群岛  6389   1\n",
       "4   基里巴斯  3430  13"
      ]
     },
     "execution_count": 62,
     "metadata": {},
     "output_type": "execute_result"
    }
   ],
   "source": [
    "df_xlsx.iloc[:5,:3]"
   ]
  },
  {
   "cell_type": "code",
   "execution_count": 67,
   "id": "f04645f8",
   "metadata": {},
   "outputs": [
    {
     "data": {
      "text/html": [
       "<div>\n",
       "<style scoped>\n",
       "    .dataframe tbody tr th:only-of-type {\n",
       "        vertical-align: middle;\n",
       "    }\n",
       "\n",
       "    .dataframe tbody tr th {\n",
       "        vertical-align: top;\n",
       "    }\n",
       "\n",
       "    .dataframe thead th {\n",
       "        text-align: right;\n",
       "    }\n",
       "</style>\n",
       "<table border=\"1\" class=\"dataframe\">\n",
       "  <thead>\n",
       "    <tr style=\"text-align: right;\">\n",
       "      <th></th>\n",
       "      <th>国家</th>\n",
       "      <th>死亡</th>\n",
       "    </tr>\n",
       "  </thead>\n",
       "  <tbody>\n",
       "    <tr>\n",
       "      <th>0</th>\n",
       "      <td>图瓦卢</td>\n",
       "      <td>0</td>\n",
       "    </tr>\n",
       "    <tr>\n",
       "      <th>2</th>\n",
       "      <td>纽埃</td>\n",
       "      <td>0</td>\n",
       "    </tr>\n",
       "  </tbody>\n",
       "</table>\n",
       "</div>"
      ],
      "text/plain": [
       "    国家  死亡\n",
       "0  图瓦卢   0\n",
       "2   纽埃   0"
      ]
     },
     "execution_count": 67,
     "metadata": {},
     "output_type": "execute_result"
    }
   ],
   "source": [
    "# 条件切片\n",
    "df_xlsx.loc[df_xlsx['死亡']==0,['国家','死亡']]"
   ]
  }
 ],
 "metadata": {
  "kernelspec": {
   "display_name": "Python 3 (ipykernel)",
   "language": "python",
   "name": "python3"
  },
  "language_info": {
   "codemirror_mode": {
    "name": "ipython",
    "version": 3
   },
   "file_extension": ".py",
   "mimetype": "text/x-python",
   "name": "python",
   "nbconvert_exporter": "python",
   "pygments_lexer": "ipython3",
   "version": "3.9.12"
  }
 },
 "nbformat": 4,
 "nbformat_minor": 5
}
